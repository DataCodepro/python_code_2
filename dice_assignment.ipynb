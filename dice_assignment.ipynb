{
 "cells": [
  {
   "cell_type": "code",
   "execution_count": null,
   "metadata": {},
   "outputs": [],
   "source": []
  },
  {
   "cell_type": "code",
   "execution_count": 10,
   "metadata": {},
   "outputs": [
    {
     "name": "stdout",
     "output_type": "stream",
     "text": [
      "Enter your name:Simeon\n",
      "Enter your name:Emmanuel\n",
      "Simeon is the winner and the dice number is 3\n",
      "The dice number of the loser is 2\n",
      "The total score of Simeon is 3\n",
      "The total score of Emmanuel is 2\n",
      "Emmanuel is the winner and the dice number is 7\n",
      "The dice number of the loser is 4\n",
      "The total score of Emmanuel is 9\n",
      "The total score of Simeon is 7\n",
      "Emmanuel is the winner and the dice number is 4\n",
      "The dice number of the loser is 1\n",
      "The total score of Emmanuel is 13\n",
      "The total score of Simeon is 8\n",
      "Emmanuel is the winner and the dice number is 2\n",
      "The dice number of the loser is 2\n",
      "The total score of Emmanuel is 15\n",
      "The total score of Simeon is 10\n",
      "Emmanuel is the winner and the dice number is 5\n",
      "The dice number of the loser is 2\n",
      "The total score of Emmanuel is 20\n",
      "The total score of Simeon is 12\n",
      "Emmanuel is the overall winner and the total point is 39\n"
     ]
    }
   ],
   "source": [
    "import random\n",
    "def dice_game():\n",
    "    player1 = input('Enter your name:')\n",
    "    player2 = input('Enter your name:')\n",
    "    counter = 1\n",
    "    score1 = 0\n",
    "    score2 =0\n",
    "    score1_list = []\n",
    "    score2_list = []\n",
    "    while counter <=5:\n",
    "        dice1 = random.randint(1,7)\n",
    "        dice2 = random.randint(1,7)\n",
    "        if dice1 > dice2:\n",
    "            score1_list.append(score1)\n",
    "            score2_list.append(score2)\n",
    "            print(f'{player1} is the winner and the dice number is {dice1}')\n",
    "            print(f'The dice number of the loser is {dice2}')\n",
    "            score1 = score1 + dice1\n",
    "            score2  = score2 + dice2\n",
    "            print(f'The total score of {player1} is {score1}')\n",
    "            print(f'The total score of {player2} is {score2}')\n",
    "            \n",
    "        else:\n",
    "            score1_list.append(score1)\n",
    "            score2_list.append(score2)\n",
    "            print(f'{player2} is the winner and the dice number is {dice2}')\n",
    "            print(f'The dice number of the loser is {dice1}')\n",
    "            score1 = score1 + dice1\n",
    "            score2  = score2 + dice2\n",
    "            print(f'The total score of {player2} is {score2}')\n",
    "            print(f'The total score of {player1} is {score1}')\n",
    "        counter +=1\n",
    "    if sum(score1_list) > sum(score2_list):\n",
    "        print(f'{player1} is the overall winner and the total point is {sum(score1_list)}')\n",
    "    else:\n",
    "         print(f'{player2} is the overall winner and the total point is {sum(score2_list)}')\n",
    "dice_game()"
   ]
  },
  {
   "cell_type": "code",
   "execution_count": null,
   "metadata": {},
   "outputs": [],
   "source": []
  }
 ],
 "metadata": {
  "kernelspec": {
   "display_name": "Python 3",
   "language": "python",
   "name": "python3"
  },
  "language_info": {
   "codemirror_mode": {
    "name": "ipython",
    "version": 3
   },
   "file_extension": ".py",
   "mimetype": "text/x-python",
   "name": "python",
   "nbconvert_exporter": "python",
   "pygments_lexer": "ipython3",
   "version": "3.8.5"
  }
 },
 "nbformat": 4,
 "nbformat_minor": 4
}
