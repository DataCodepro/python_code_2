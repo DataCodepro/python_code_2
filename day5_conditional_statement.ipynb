{
 "cells": [
  {
   "cell_type": "markdown",
   "metadata": {},
   "source": [
    "# Conditional Statement"
   ]
  },
  {
   "cell_type": "code",
   "execution_count": 2,
   "metadata": {},
   "outputs": [
    {
     "name": "stdout",
     "output_type": "stream",
     "text": [
      "you are very correct\n"
     ]
    }
   ],
   "source": [
    "num = 10\n",
    "if num <= 50:\n",
    "    print('you are very correct')"
   ]
  },
  {
   "cell_type": "code",
   "execution_count": 6,
   "metadata": {},
   "outputs": [
    {
     "name": "stdout",
     "output_type": "stream",
     "text": [
      "operation is not correct\n"
     ]
    }
   ],
   "source": [
    "num = 10\n",
    "if num > 50:\n",
    "    print('you are very correct')\n",
    "else:\n",
    "    print('operation is not correct')"
   ]
  },
  {
   "cell_type": "code",
   "execution_count": 3,
   "metadata": {},
   "outputs": [
    {
     "name": "stdout",
     "output_type": "stream",
     "text": [
      "Driver's speed:100\n",
      "Hey you are driving above the default speed bewarned and the extra point is 6\n"
     ]
    }
   ],
   "source": [
    "speed1 = 70\n",
    "speed2 = int(input('Driver\\'s speed:'))\n",
    "if speed2 <= speed1:\n",
    "    print('You are on track')\n",
    "else:\n",
    "    speed3 =(speed2 - speed1)// 5 \n",
    "    if speed3 <= 12:\n",
    "        print(f'Hey you are driving above the default speed bewarned and the extra point is {speed3}')\n",
    "    else:\n",
    "        print(f'Hey your  driving  is  above the default speed with an high extra point of {speed3}, you are hereby suspended')"
   ]
  },
  {
   "cell_type": "markdown",
   "metadata": {},
   "source": [
    "# if num == 0: display you have entered zero\n",
    "# if num < 0: display you have entered a negative number\n",
    "# else you have entered a positive number"
   ]
  },
  {
   "cell_type": "code",
   "execution_count": 15,
   "metadata": {},
   "outputs": [
    {
     "name": "stdout",
     "output_type": "stream",
     "text": [
      "Enter number:-5\n",
      "Number is Negative\n"
     ]
    }
   ],
   "source": [
    "num = int(input('Enter number:'))\n",
    "if num == 0:\n",
    "    print('Number is Zero')\n",
    "elif num < 0:\n",
    "    print('Number is Negative')\n",
    "else:\n",
    "    print('Number is positive')"
   ]
  },
  {
   "cell_type": "code",
   "execution_count": 16,
   "metadata": {},
   "outputs": [
    {
     "name": "stdout",
     "output_type": "stream",
     "text": [
      "WELCOME TO MADAMB's KITCHEN\n",
      "HOME OF DELICIOUS FOOD\n",
      "WE ARE ALWAYS AT YOUR SERVICE\n",
      "Please seat on any roll for desired meal to be servered:2\n",
      "You will be serve Poundedyam with any soup of your choice,beef or chicken or fish or cow head, water and any drink of your choice \n"
     ]
    }
   ],
   "source": [
    "print('WELCOME TO MADAMB\\'s KITCHEN' )\n",
    "print('HOME OF DELICIOUS FOOD')\n",
    "print('WE ARE ALWAYS AT YOUR SERVICE')\n",
    "choice = int(input('Please seat on any roll for desired meal to be servered:'))\n",
    "if choice == 1:\n",
    "    print('You will be serve Rice,Plantain,beef or chicken, water and any drink of your choice ')\n",
    "elif choice == 2:\n",
    "    print('You will be serve Poundedyam with any soup of your choice,beef or chicken or fish or cow head, water and any drink of your choice ')\n",
    "elif choice == 3:\n",
    "    print('You will be serve Amala with any soup of your choice,beef or chicken or fish or cow head, water and any drink of your choice ')\n",
    "elif choice == 4:\n",
    "    print('You will be serve any snacks of your choice,beef or chicken, water and any drink of your choice ')\n",
    "else:\n",
    "    print('Invalid Option')"
   ]
  },
  {
   "cell_type": "code",
   "execution_count": null,
   "metadata": {},
   "outputs": [],
   "source": []
  }
 ],
 "metadata": {
  "kernelspec": {
   "display_name": "Python 3",
   "language": "python",
   "name": "python3"
  },
  "language_info": {
   "codemirror_mode": {
    "name": "ipython",
    "version": 3
   },
   "file_extension": ".py",
   "mimetype": "text/x-python",
   "name": "python",
   "nbconvert_exporter": "python",
   "pygments_lexer": "ipython3",
   "version": "3.8.5"
  }
 },
 "nbformat": 4,
 "nbformat_minor": 4
}
