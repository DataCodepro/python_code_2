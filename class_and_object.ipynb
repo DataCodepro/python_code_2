{
 "cells": [
  {
   "cell_type": "code",
   "execution_count": 1,
   "metadata": {},
   "outputs": [],
   "source": [
    "class dog:\n",
    "    attr1 = 'Mammal'\n",
    "    attr2 = 'Dog'\n",
    "    attr3= 'Bark'\n",
    "Rocky =  dog()"
   ]
  },
  {
   "cell_type": "code",
   "execution_count": 2,
   "metadata": {},
   "outputs": [
    {
     "data": {
      "text/plain": [
       "'Mammal'"
      ]
     },
     "execution_count": 2,
     "metadata": {},
     "output_type": "execute_result"
    }
   ],
   "source": [
    "Rocky.attr1"
   ]
  },
  {
   "cell_type": "code",
   "execution_count": 4,
   "metadata": {},
   "outputs": [
    {
     "data": {
      "text/plain": [
       "'Dog'"
      ]
     },
     "execution_count": 4,
     "metadata": {},
     "output_type": "execute_result"
    }
   ],
   "source": [
    "Rocky.attr2"
   ]
  },
  {
   "cell_type": "code",
   "execution_count": 5,
   "metadata": {},
   "outputs": [
    {
     "data": {
      "text/plain": [
       "'Bark'"
      ]
     },
     "execution_count": 5,
     "metadata": {},
     "output_type": "execute_result"
    }
   ],
   "source": [
    "Rocky.attr3"
   ]
  },
  {
   "cell_type": "code",
   "execution_count": 12,
   "metadata": {},
   "outputs": [],
   "source": [
    "class dog:\n",
    "    attr1 = 'Mammal'\n",
    "    attr2 = 'Dog'\n",
    "    attr3= 'Bark'\n",
    "    def details(self):\n",
    "        print(f'Rocky is a {self.attr2}')\n",
    "        print(f'Rocky belongs to the kingdom of {self.attr1}')\n",
    "        print(f'One of Rocky\\'s behavior is he  can {self.attr3}')\n",
    "Rocky =  dog()"
   ]
  },
  {
   "cell_type": "code",
   "execution_count": 13,
   "metadata": {},
   "outputs": [
    {
     "name": "stdout",
     "output_type": "stream",
     "text": [
      "Rocky is a Dog\n",
      "Rocky belongs to the kingdom of Mammal\n",
      "One of Rocky's behavior is he  can Bark\n"
     ]
    }
   ],
   "source": [
    "Rocky.details()"
   ]
  },
  {
   "cell_type": "code",
   "execution_count": 15,
   "metadata": {},
   "outputs": [
    {
     "name": "stdin",
     "output_type": "stream",
     "text": [
      "please enter your name Simeon\n",
      "please enter your gender Male\n",
      "Please provide your age 25\n",
      "please enter your height in meters 1.72\n",
      "please enter your weight in kg 60\n"
     ]
    },
    {
     "name": "stdout",
     "output_type": "stream",
     "text": [
      "Name:Simeon\n",
      "Gender:Male\n",
      "Age:25\n",
      "Height:1.72\n",
      "Weight:60.0\n",
      "\n",
      "None\n",
      "\n",
      "\n",
      "One of my behavior is, i can talk\n",
      "None\n",
      "\n",
      "\n",
      "Congratulations you are eligible to vote\n",
      "None\n"
     ]
    }
   ],
   "source": [
    "class person:\n",
    "    def __init__(self,Name,Gender,Age,Height,Weight):\n",
    "        self.Name = Name\n",
    "        self.Gender = Gender\n",
    "        self.Age = Age\n",
    "        self.Height = Height\n",
    "        self.Weight = Weight\n",
    "    def details(self):\n",
    "        print(f'''Name:{self.Name}\n",
    "Gender:{self.Gender}\n",
    "Age:{self.Age}\n",
    "Height:{self.Height}\n",
    "Weight:{self.Weight}\n",
    "''')\n",
    "    def talk(self):\n",
    "        print(f'One of my behavior is, i can talk')\n",
    "    def vote(self):\n",
    "        if self.Age >= 18:\n",
    "            print('Congratulations you are eligible to vote')\n",
    "        else:\n",
    "            print('You are not eligible to vote')\n",
    "firstperson = person(input('please enter your name'),input('please enter your gender'),int(input('Please provide your age')),float(input('please enter your height in meters')),float(input('please enter your weight in kg')))\n",
    "print(firstperson.details())\n",
    "print('\\n')\n",
    "print(firstperson.talk())\n",
    "print('\\n')\n",
    "print(firstperson.vote())"
   ]
  },
  {
   "cell_type": "code",
   "execution_count": null,
   "metadata": {},
   "outputs": [],
   "source": [
    "bmi = weight / height**2\n"
   ]
  }
 ],
 "metadata": {
  "kernelspec": {
   "display_name": "Python 3",
   "language": "python",
   "name": "python3"
  },
  "language_info": {
   "codemirror_mode": {
    "name": "ipython",
    "version": 3
   },
   "file_extension": ".py",
   "mimetype": "text/x-python",
   "name": "python",
   "nbconvert_exporter": "python",
   "pygments_lexer": "ipython3",
   "version": "3.8.5"
  }
 },
 "nbformat": 4,
 "nbformat_minor": 4
}
