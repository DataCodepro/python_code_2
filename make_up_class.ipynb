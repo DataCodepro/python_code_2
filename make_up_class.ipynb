{
 "cells": [
  {
   "cell_type": "code",
   "execution_count": 1,
   "metadata": {},
   "outputs": [],
   "source": [
    "#Firstname camel naming case\n",
    "#FirstName  Pascal naming case\n",
    "#first_name snake naming case"
   ]
  },
  {
   "cell_type": "code",
   "execution_count": 2,
   "metadata": {},
   "outputs": [],
   "source": [
    "number1 = 10"
   ]
  },
  {
   "cell_type": "code",
   "execution_count": 3,
   "metadata": {},
   "outputs": [
    {
     "name": "stdout",
     "output_type": "stream",
     "text": [
      "10\n"
     ]
    }
   ],
   "source": [
    "print(number1)"
   ]
  },
  {
   "cell_type": "code",
   "execution_count": 4,
   "metadata": {},
   "outputs": [
    {
     "name": "stdout",
     "output_type": "stream",
     "text": [
      "hello world\n"
     ]
    }
   ],
   "source": [
    "print('hello world')"
   ]
  },
  {
   "cell_type": "code",
   "execution_count": 5,
   "metadata": {},
   "outputs": [
    {
     "name": "stdout",
     "output_type": "stream",
     "text": [
      "we're brothers from the other side of the town\n"
     ]
    }
   ],
   "source": [
    "word1 = 'we\\'re brothers from the other side of the town' #backward slash(\\) denotes the escape character\n",
    "print(word1)"
   ]
  },
  {
   "cell_type": "code",
   "execution_count": 6,
   "metadata": {},
   "outputs": [
    {
     "name": "stdout",
     "output_type": "stream",
     "text": [
      "we're brothers from the other side of the town\n"
     ]
    }
   ],
   "source": [
    "word1 = \"we're brothers from the other side of the town\"\n",
    "print(word1)"
   ]
  },
  {
   "cell_type": "code",
   "execution_count": 7,
   "metadata": {},
   "outputs": [
    {
     "name": "stdout",
     "output_type": "stream",
     "text": [
      "Hey python is fun,\n",
      "are you not going to learn it,\n",
      "if so visit us at earlycode\n"
     ]
    }
   ],
   "source": [
    "word2 = \"Hey python is fun,\\nare you not going to learn it,\\nif so visit us at earlycode\" # Backward slash + N denotes new line\n",
    "print(word2)"
   ]
  },
  {
   "cell_type": "code",
   "execution_count": 8,
   "metadata": {},
   "outputs": [
    {
     "name": "stdout",
     "output_type": "stream",
     "text": [
      "Hey python is fun,\n",
      "are you not going to learn it,\n",
      "if so visit us at earlycode\n",
      "\n"
     ]
    }
   ],
   "source": [
    "word2 = \"\"\"Hey python is fun,\n",
    "are you not going to learn it,\n",
    "if so visit us at earlycode\n",
    "\"\"\" # \"\"\" \"\"\" denotes multiline string\n",
    "print(word2)"
   ]
  },
  {
   "cell_type": "code",
   "execution_count": 10,
   "metadata": {},
   "outputs": [
    {
     "name": "stdout",
     "output_type": "stream",
     "text": [
      "hello world\n"
     ]
    }
   ],
   "source": [
    "print('hello'+' '+'world')# joining of string and string"
   ]
  },
  {
   "cell_type": "code",
   "execution_count": 11,
   "metadata": {},
   "outputs": [],
   "source": [
    "num1 = 10\n",
    "num2 = 120.2\n",
    "word = 'simeon'\n",
    "num3 = '5'"
   ]
  },
  {
   "cell_type": "code",
   "execution_count": 17,
   "metadata": {},
   "outputs": [
    {
     "name": "stdout",
     "output_type": "stream",
     "text": [
      "5\n",
      "<class 'int'>\n",
      "<class 'int'>\n"
     ]
    }
   ],
   "source": [
    "u_num1 = int(num3)\n",
    "print(u_num1)\n",
    "print(type(u_num1))\n",
    "print(type(num1))"
   ]
  },
  {
   "cell_type": "code",
   "execution_count": 23,
   "metadata": {},
   "outputs": [
    {
     "name": "stdout",
     "output_type": "stream",
     "text": [
      "please enter your age:25\n",
      "<class 'bool'>\n"
     ]
    }
   ],
   "source": [
    "age  =bool(input('please enter your age:'))\n",
    "print(type(age))"
   ]
  },
  {
   "cell_type": "code",
   "execution_count": null,
   "metadata": {},
   "outputs": [],
   "source": []
  }
 ],
 "metadata": {
  "kernelspec": {
   "display_name": "Python 3",
   "language": "python",
   "name": "python3"
  },
  "language_info": {
   "codemirror_mode": {
    "name": "ipython",
    "version": 3
   },
   "file_extension": ".py",
   "mimetype": "text/x-python",
   "name": "python",
   "nbconvert_exporter": "python",
   "pygments_lexer": "ipython3",
   "version": "3.8.5"
  }
 },
 "nbformat": 4,
 "nbformat_minor": 4
}
