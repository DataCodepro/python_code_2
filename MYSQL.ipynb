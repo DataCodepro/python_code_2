{
 "cells": [
  {
   "cell_type": "code",
   "execution_count": 1,
   "metadata": {},
   "outputs": [],
   "source": [
    "import mysql.connector"
   ]
  },
  {
   "cell_type": "code",
   "execution_count": 2,
   "metadata": {},
   "outputs": [
    {
     "name": "stdout",
     "output_type": "stream",
     "text": [
      "('football_management_system',)\n",
      "('information_schema',)\n",
      "('madamb_supermarket_management_system',)\n",
      "('mysql',)\n",
      "('performance_schema',)\n",
      "('sakila',)\n",
      "('sys',)\n",
      "('world',)\n"
     ]
    }
   ],
   "source": [
    "mydb = mysql.connector.connect(\n",
    "    host = 'localhost',\n",
    "    user = 'taiwo',\n",
    "    password = '1234'\n",
    ")\n",
    "mycursor =mydb.cursor()\n",
    "mycursor.execute('SHOW DATABASES')\n",
    "for x in mycursor:\n",
    "    print(x)"
   ]
  },
  {
   "cell_type": "code",
   "execution_count": 3,
   "metadata": {},
   "outputs": [],
   "source": [
    "mydb = mysql.connector.connect(\n",
    "    host = 'localhost',\n",
    "    user = 'taiwo',\n",
    "    password = '1234',\n",
    "    database = 'football_management_system'\n",
    ")\n",
    "mycursor =mydb.cursor()\n",
    "mycursor.execute('CREATE TABLE staff_details(id int, S_name varchar(255),S_position varchar(255),S_country varchar(255),S_dob date)')\n"
   ]
  },
  {
   "cell_type": "code",
   "execution_count": 4,
   "metadata": {},
   "outputs": [
    {
     "name": "stdout",
     "output_type": "stream",
     "text": [
      "1 was inserted\n"
     ]
    }
   ],
   "source": [
    "mydb = mysql.connector.connect(\n",
    "    host = 'localhost',\n",
    "    user = 'taiwo',\n",
    "    password = '1234',\n",
    "    database = 'football_management_system'\n",
    ")\n",
    "mycursor =mydb.cursor()\n",
    "sql = 'INSERT INTO staff_details(id,S_name,S_position,S_country,S_dob) VALUES(%s,%s,%s,%s,%s)'\n",
    "val = (1,'Ole Gunnar Solskjær','Manager','Norway','1973-02-26')\n",
    "mycursor.execute(sql,val)\n",
    "mydb.commit()\n",
    "print(mycursor.rowcount, 'was inserted')"
   ]
  },
  {
   "cell_type": "code",
   "execution_count": 5,
   "metadata": {},
   "outputs": [
    {
     "name": "stdout",
     "output_type": "stream",
     "text": [
      "4 records was inserted\n"
     ]
    }
   ],
   "source": [
    "mydb = mysql.connector.connect(\n",
    "    host = 'localhost',\n",
    "    user = 'taiwo',\n",
    "    password = '1234',\n",
    "    database = 'football_management_system'\n",
    ")\n",
    "mycursor =mydb.cursor()\n",
    "sql = 'INSERT INTO staff_details(id,S_name,S_position,S_country,S_dob) VALUES(%s,%s,%s,%s,%s)'\n",
    "val = [(2,'Micheal Phelan','Coach','England','1958-02-26'),\n",
    "      (3,'Micheal Carrick','Technical Director','England','1985-02-26'),\n",
    "      (4,'Darren Flecther','Technical Director','England','1983-02-26'),\n",
    "      (5,'Edwin Vandersar','GK Coach','England','1970-05-10')]\n",
    "mycursor.executemany(sql,val)\n",
    "mydb.commit()\n",
    "print(mycursor.rowcount, 'records was inserted')"
   ]
  },
  {
   "cell_type": "code",
   "execution_count": 6,
   "metadata": {},
   "outputs": [
    {
     "name": "stdout",
     "output_type": "stream",
     "text": [
      "(1, 'Ole Gunnar Solskjær', 'Manager', 'Norway', datetime.date(1973, 2, 26))\n",
      "(2, 'Micheal Phelan', 'Coach', 'England', datetime.date(1958, 2, 26))\n",
      "(3, 'Micheal Carrick', 'Technical Director', 'England', datetime.date(1985, 2, 26))\n",
      "(4, 'Darren Flecther', 'Technical Director', 'England', datetime.date(1983, 2, 26))\n",
      "(5, 'Edwin Vandersar', 'GK Coach', 'England', datetime.date(1970, 5, 10))\n"
     ]
    }
   ],
   "source": [
    "mydb = mysql.connector.connect(\n",
    "    host = 'localhost',\n",
    "    user = 'taiwo',\n",
    "    password = '1234',\n",
    "    database = 'football_management_system'\n",
    ")\n",
    "mycursor =mydb.cursor()\n",
    "mycursor.execute('SELECT * FROM staff_details')\n",
    "result = mycursor.fetchall()\n",
    "for x in result:\n",
    "    print(x)"
   ]
  },
  {
   "cell_type": "code",
   "execution_count": null,
   "metadata": {},
   "outputs": [],
   "source": []
  }
 ],
 "metadata": {
  "kernelspec": {
   "display_name": "Python 3",
   "language": "python",
   "name": "python3"
  },
  "language_info": {
   "codemirror_mode": {
    "name": "ipython",
    "version": 3
   },
   "file_extension": ".py",
   "mimetype": "text/x-python",
   "name": "python",
   "nbconvert_exporter": "python",
   "pygments_lexer": "ipython3",
   "version": "3.8.5"
  }
 },
 "nbformat": 4,
 "nbformat_minor": 4
}
