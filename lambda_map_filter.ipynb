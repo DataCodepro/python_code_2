{
 "cells": [
  {
   "cell_type": "code",
   "execution_count": 1,
   "metadata": {},
   "outputs": [
    {
     "data": {
      "text/plain": [
       "10"
      ]
     },
     "execution_count": 1,
     "metadata": {},
     "output_type": "execute_result"
    }
   ],
   "source": [
    "(lambda x: x+x)(5)"
   ]
  },
  {
   "cell_type": "code",
   "execution_count": 5,
   "metadata": {},
   "outputs": [
    {
     "name": "stdin",
     "output_type": "stream",
     "text": [
      "Please enter your name: Simeon\n"
     ]
    },
    {
     "data": {
      "text/plain": [
       "True"
      ]
     },
     "execution_count": 5,
     "metadata": {},
     "output_type": "execute_result"
    }
   ],
   "source": [
    "# write a lambda function to check if a name starts with uppercase S using input fuction to collect the value\n",
    "(lambda x:True if x.startswith(str.upper('s')) else False)(input('Please enter your name:'))"
   ]
  },
  {
   "cell_type": "code",
   "execution_count": 7,
   "metadata": {},
   "outputs": [
    {
     "name": "stdin",
     "output_type": "stream",
     "text": [
      "Please enter your password Seyilaw1\n"
     ]
    },
    {
     "data": {
      "text/plain": [
       "'Valid'"
      ]
     },
     "execution_count": 7,
     "metadata": {},
     "output_type": "execute_result"
    }
   ],
   "source": [
    "#write a lambda function to check the lenght of a pasword user enter if the password lenght is 6 and above valid password but if\n",
    "#below invalid password\n",
    "(lambda password:'Valid' if len(password) >=6 else 'Invalid')(input('Please enter your password'))"
   ]
  },
  {
   "cell_type": "code",
   "execution_count": 9,
   "metadata": {},
   "outputs": [
    {
     "name": "stdout",
     "output_type": "stream",
     "text": [
      "['ROCKY', 'BINGO', 'HENRY', 'ANIA']\n"
     ]
    }
   ],
   "source": [
    "dogs = ['rocky','bingo','henry','ania']\n",
    "u_dog = list(map(lambda x:x.upper(),dogs))\n",
    "print(u_dog)"
   ]
  },
  {
   "cell_type": "markdown",
   "metadata": {},
   "source": [
    "# generate a random number between (45,70) and this numbers should not be less than 35\n",
    "# modify this numbers by finding the sqrt of each "
   ]
  },
  {
   "cell_type": "code",
   "execution_count": 11,
   "metadata": {},
   "outputs": [
    {
     "name": "stdout",
     "output_type": "stream",
     "text": [
      "[7.280109889280518, 6.928203230275509, 7.937253933193772, 7.810249675906654, 8.366600265340756, 7.14142842854285, 7.615773105863909, 7.810249675906654, 6.928203230275509, 7.745966692414834, 8.246211251235321, 7.0, 7.0710678118654755, 8.306623862918075, 8.306623862918075, 7.810249675906654, 7.54983443527075, 7.280109889280518, 7.280109889280518, 7.615773105863909, 8.366600265340756, 6.928203230275509, 7.745966692414834, 7.615773105863909, 8.246211251235321, 8.12403840463596, 7.211102550927978, 7.745966692414834, 7.0710678118654755, 7.280109889280518, 7.14142842854285, 7.416198487095663, 7.0710678118654755, 6.928203230275509, 7.937253933193772]\n"
     ]
    }
   ],
   "source": [
    "import random\n",
    "import math\n",
    "numbers = []\n",
    "count = 1\n",
    "while count <= 35:\n",
    "    num = random.randint(45,70)\n",
    "    numbers.append(num)\n",
    "    count +=1\n",
    "u_numbers = list(map(lambda digit: math.sqrt(digit),numbers))\n",
    "print(u_numbers)"
   ]
  },
  {
   "cell_type": "code",
   "execution_count": 12,
   "metadata": {},
   "outputs": [
    {
     "name": "stdout",
     "output_type": "stream",
     "text": [
      "[53, 48, 51, 48, 49, 50, 53, 53, 48, 52, 50, 53, 51, 50, 48]\n"
     ]
    }
   ],
   "source": [
    "u_numbers = list(filter(lambda digit: digit < 55,numbers))\n",
    "print(u_numbers)"
   ]
  },
  {
   "cell_type": "markdown",
   "metadata": {},
   "source": [
    "# delecare a variable for each of the followimg JRN,ITM,SRN\n",
    "# generate a random number between 100,5000 and should not be less than 1000\n",
    "# join both the variables and the random numbers together and append them to  a list called staff_numbers\n",
    "# fillter out the SRN staff records only"
   ]
  },
  {
   "cell_type": "code",
   "execution_count": null,
   "metadata": {},
   "outputs": [],
   "source": []
  }
 ],
 "metadata": {
  "kernelspec": {
   "display_name": "Python 3",
   "language": "python",
   "name": "python3"
  },
  "language_info": {
   "codemirror_mode": {
    "name": "ipython",
    "version": 3
   },
   "file_extension": ".py",
   "mimetype": "text/x-python",
   "name": "python",
   "nbconvert_exporter": "python",
   "pygments_lexer": "ipython3",
   "version": "3.8.5"
  }
 },
 "nbformat": 4,
 "nbformat_minor": 4
}
