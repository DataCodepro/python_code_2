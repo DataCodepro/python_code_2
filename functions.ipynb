{
 "cells": [
  {
   "cell_type": "code",
   "execution_count": 1,
   "metadata": {},
   "outputs": [
    {
     "name": "stdout",
     "output_type": "stream",
     "text": [
      "Enter your guess:5\n",
      "Your guess is 5\n",
      "Guess too low\n",
      "Enter your guess:9\n",
      "Your guess is 9\n",
      "Guess too low\n",
      "Enter your guess:15\n",
      "Your guess is 15\n",
      "Guess too high\n",
      "Enter your guess:14\n",
      "Your guess is 14\n",
      "Guess too high\n",
      "Enter your guess:13\n",
      "Congratulations Guess is correct\n"
     ]
    }
   ],
   "source": [
    "import random\n",
    "number = random.randint(1,20)\n",
    "guesses = int(input('Enter your guess:'))\n",
    "guess = 1\n",
    "while guesses != number:\n",
    "    print(f'Your guess is {guesses}')\n",
    "    guess+=1\n",
    "    if guesses < number:\n",
    "        print('Guess too low')\n",
    "    elif guesses > number:\n",
    "        print('Guess too high')\n",
    "    guesses = int(input('Enter your guess:'))\n",
    "print('Congratulations Guess is correct')"
   ]
  },
  {
   "cell_type": "code",
   "execution_count": 3,
   "metadata": {},
   "outputs": [],
   "source": [
    "def greet(): # Function without a parameter or Arguement\n",
    "    print('Welcome to python class')"
   ]
  },
  {
   "cell_type": "code",
   "execution_count": 4,
   "metadata": {},
   "outputs": [
    {
     "name": "stdout",
     "output_type": "stream",
     "text": [
      "Welcome to python class\n"
     ]
    }
   ],
   "source": [
    "greet()"
   ]
  },
  {
   "cell_type": "code",
   "execution_count": 5,
   "metadata": {},
   "outputs": [],
   "source": [
    "def greet2(name): #Function with one parameter or Arguement\n",
    "    print(f'Welcome to python class {name}')"
   ]
  },
  {
   "cell_type": "code",
   "execution_count": 7,
   "metadata": {},
   "outputs": [
    {
     "name": "stdout",
     "output_type": "stream",
     "text": [
      "Welcome to python class Simeon\n"
     ]
    }
   ],
   "source": [
    "greet2('Simeon')"
   ]
  },
  {
   "cell_type": "code",
   "execution_count": 10,
   "metadata": {},
   "outputs": [
    {
     "name": "stdout",
     "output_type": "stream",
     "text": [
      "Hey my name is Simeon\n",
      "I am a Male\n",
      "I am a 25 years old\n",
      "I weigh 60kg and i am of 1.72meters\n",
      "\n",
      "Hey you are eligble to vote\n"
     ]
    }
   ],
   "source": [
    "def person(name,gender,age,height,weight):#Functions with more than one parameters or arguements\n",
    "    print(f'''Hey my name is {name}\n",
    "I am a {gender}\n",
    "I am a {age} years old\n",
    "I weigh {weight}kg and i am of {height}meters\n",
    "''')\n",
    "    if age >= 18:\n",
    "        print('Hey you are eligble to vote')\n",
    "    else:\n",
    "        print('Hey you are not eligible to vote')\n",
    "person('Simeon','Male',25,1.72,60)"
   ]
  },
  {
   "cell_type": "markdown",
   "metadata": {},
   "source": [
    "# 1. write a function to find the amount that #5000 becomes if saved for 3 years at 6% per annum compound intrest\n",
    "# 2.write a function to find the simple interest on 120000 for 7 1/2 years at 6% per annum the formula to use is I = PRT/100\n",
    "# 3. Members of a family estimate that they will need 700000 to improve their house in 3 years time. they deposit 550000 at 5% per annum compound interest they add 25000 at the end of 1st year and 35000 at the end of 2nd year write a function to find 1.their total savings after 3 years 2. by how much are their saving greater than or less than 700000 needed\n",
    "\n",
    "\n"
   ]
  },
  {
   "cell_type": "code",
   "execution_count": 19,
   "metadata": {},
   "outputs": [
    {
     "name": "stdout",
     "output_type": "stream",
     "text": [
      "The savings at the end of the first year is 5299.0\n",
      "The savings at the end of the second year is 5617.000000000001\n",
      "The savings at the end of the third year is 5954.08\n"
     ]
    }
   ],
   "source": [
    "def compound_intrest_without_difference():\n",
    "    P = 5000\n",
    "    i = 6/100\n",
    "    n1 = 1\n",
    "    n2 = 2\n",
    "    n3=3\n",
    "    saving_first_year=( P*(1+i)**n1-1)\n",
    "    print(f'The savings at the end of the first year is {saving_first_year}')\n",
    "    saving_second_year=( P*(1+i)**n2-1)\n",
    "    print(f'The savings at the end of the second year is {saving_second_year}')\n",
    "    saving_third_year=( P*(1+i)**n3-1)\n",
    "    print(f'The savings at the end of the third year is {saving_third_year}')\n",
    "compound_intrest_without_difference()"
   ]
  },
  {
   "cell_type": "code",
   "execution_count": 31,
   "metadata": {},
   "outputs": [
    {
     "name": "stdout",
     "output_type": "stream",
     "text": [
      "The savings at the end of the third year is 706150.2500000001\n",
      "The difference is 6150.250000000116\n"
     ]
    }
   ],
   "source": [
    "def compound_intrest_with_difference():\n",
    "    P1 = 700000\n",
    "    P2 = 550000\n",
    "    i = 5/100\n",
    "    A1 = 25000\n",
    "    A2 = 35000\n",
    "    P3 = P2 +A1 +A2\n",
    "    n=3\n",
    "    saving_third_year=( P3*(1+i)**n-1)\n",
    "    print(f'The savings at the end of the third year is {saving_third_year}')\n",
    "    diff = saving_third_year - P1\n",
    "    print(f'The difference is {diff}')\n",
    "compound_intrest_with_difference()"
   ]
  },
  {
   "cell_type": "code",
   "execution_count": 30,
   "metadata": {},
   "outputs": [
    {
     "data": {
      "text/plain": [
       "610000"
      ]
     },
     "execution_count": 30,
     "metadata": {},
     "output_type": "execute_result"
    }
   ],
   "source": [
    "550000+25000+35000"
   ]
  },
  {
   "cell_type": "code",
   "execution_count": null,
   "metadata": {},
   "outputs": [],
   "source": []
  }
 ],
 "metadata": {
  "kernelspec": {
   "display_name": "Python 3",
   "language": "python",
   "name": "python3"
  },
  "language_info": {
   "codemirror_mode": {
    "name": "ipython",
    "version": 3
   },
   "file_extension": ".py",
   "mimetype": "text/x-python",
   "name": "python",
   "nbconvert_exporter": "python",
   "pygments_lexer": "ipython3",
   "version": "3.8.5"
  }
 },
 "nbformat": 4,
 "nbformat_minor": 4
}
